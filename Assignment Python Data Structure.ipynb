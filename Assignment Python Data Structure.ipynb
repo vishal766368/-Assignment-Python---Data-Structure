{
 "cells": [
  {
   "cell_type": "markdown",
   "id": "39b87980-6a4e-4b9a-b275-f212d0a1d2ec",
   "metadata": {},
   "source": [
    "Python Data Types and Structure Questions"
   ]
  },
  {
   "cell_type": "markdown",
   "id": "c299281a-8743-47dc-a289-b2fbc3b074bd",
   "metadata": {},
   "source": [
    "Ques1. What are data structures, and why are they important?"
   ]
  },
  {
   "cell_type": "markdown",
   "id": "d3cf70e7-e713-41cd-b0ce-82078b72ec58",
   "metadata": {},
   "source": [
    "Ans1. Data structures are used to store and organize data in Python. They help in efficient data access and management. Ex: lists, tuples, sets, and dictionaries."
   ]
  },
  {
   "cell_type": "markdown",
   "id": "0afad2e4-31ba-4849-949f-13d652c95620",
   "metadata": {},
   "source": [
    "Ques2. Explain the difference between mutable and immutable data types with examples."
   ]
  },
  {
   "cell_type": "markdown",
   "id": "d371b141-e69d-4bd3-9666-3c1e7fca8d40",
   "metadata": {},
   "source": [
    "Ans2. Mutable data types are those data types which can be changed after creation, while immutable data types are those data types which cannot be changed after creation. Ex: Mutable: list, dict, set Immutable:| str, tuple"
   ]
  },
  {
   "cell_type": "markdown",
   "id": "20521628-927a-46fd-9674-75539aa2caa9",
   "metadata": {},
   "source": [
    "Ques3. What are the main differences between lists and tuples in Python?"
   ]
  },
  {
   "cell_type": "markdown",
   "id": "16cd019f-44aa-442d-b189-0143627043de",
   "metadata": {},
   "source": [
    "Ans3. In Python, the main difference between lists and tuples is that lists are mutable, meaning their elements can be changed after creation, while tuples are immutable and cannot be modified. Lists are created using square brackets [], whereas tuples use parentheses ()."
   ]
  },
  {
   "cell_type": "markdown",
   "id": "b31ce5fb-9970-46bf-8706-71bec63a2ea3",
   "metadata": {},
   "source": [
    "Ques4. Describe how dictionaries store data?"
   ]
  },
  {
   "cell_type": "markdown",
   "id": "1900b2ab-ccb6-4662-a561-7e1548c7db3f",
   "metadata": {},
   "source": [
    "Ans4. In Python Dictionaries store data as key-value pairs. Each key is unique, and it is associated with a value. You can access values by referencing their corresponding keys."
   ]
  },
  {
   "cell_type": "markdown",
   "id": "a1f47d84-d2b4-4bf2-b0ba-3c57920ea33f",
   "metadata": {},
   "source": [
    "Ques5. Why might you use a set instead of a list in Python?"
   ]
  },
  {
   "cell_type": "markdown",
   "id": "cb841064-5d1b-47bc-9fd3-1c7e5d48d041",
   "metadata": {},
   "source": [
    "Ans5. Following are some that shows that why we use a set instead of a list in Python a. Uniqueness: Sets automatically remove duplicates, ensuring that all elements are unique. b. Set operations: Sets support mathematical set operations like union, intersection, and difference directly, which can be useful for certain problems."
   ]
  },
  {
   "cell_type": "markdown",
   "id": "5e397e83-3b43-4f74-86c8-eaa2e31bdb21",
   "metadata": {},
   "source": [
    "Ques6. What is a string in Python, and how is it different from a list?"
   ]
  },
  {
   "cell_type": "markdown",
   "id": "eb09d859-91de-4ac3-8029-205b39b62e75",
   "metadata": {},
   "source": [
    "Ans6. A string in Python is a sequence of characters enclosed in quotes like: 'hello' or \"hello\". It is immutable, meaning it cannot be changed after creation. A list is a sequence of elements which can be of any data type and is mutable, so its elements can be modified."
   ]
  },
  {
   "cell_type": "markdown",
   "id": "472c7350-11fa-4085-aea8-d28b7faddd35",
   "metadata": {},
   "source": [
    "Ques7. How do tuples ensure data integrity in python?"
   ]
  },
  {
   "cell_type": "markdown",
   "id": "e64418ef-1232-48f0-bb6b-a23386cc001b",
   "metadata": {},
   "source": [
    "Ans7. Tuples ensure data integrity in Python by being immutable, meaning their values cannot be changed after creation. This protects the data from accidental modification, making tuples ideal for storing constant or fixed data."
   ]
  },
  {
   "cell_type": "markdown",
   "id": "b7677b3d-0bad-4114-b3f7-77f767828d07",
   "metadata": {},
   "source": [
    "Ques8. What is a hash table, and how does it relate to dictionaries in Python?"
   ]
  },
  {
   "cell_type": "markdown",
   "id": "9e939f4e-ff52-4125-bf4e-df49826bc84b",
   "metadata": {},
   "source": [
    "Ans8. A hash table is a data structure that stores data using key-value pairs, where a hash function converts keys into unique indexes to quickly access values. In Python, the dictionary is implemented using a hash table. When you use a key to access or store a value in a dictionary, Python uses hashing to find the correct location in memory, making operations like lookup, insert, and delete very fast."
   ]
  },
  {
   "cell_type": "markdown",
   "id": "85f742ba-7a07-41cf-b48c-b318dd0cc2ae",
   "metadata": {},
   "source": [
    "Ques9. Can lists contain different data types in Python?"
   ]
  },
  {
   "cell_type": "markdown",
   "id": "d6737018-4461-4365-baf0-ac4b70f6f564",
   "metadata": {},
   "source": [
    "Ans9. Yes, lists in Python can contain different data types."
   ]
  },
  {
   "cell_type": "markdown",
   "id": "5c4ef993-ef62-44e3-a576-2770ee5305b6",
   "metadata": {},
   "source": [
    "Ques10. Explain why strings are immutable in Python?"
   ]
  },
  {
   "cell_type": "markdown",
   "id": "dc90fe14-724e-4e5a-acc7-e18d68e9f33e",
   "metadata": {},
   "source": [
    "Ans10. Strings are immutable in Python to ensure data integrity and security. When a string is created, it cannot be changed any operation that seems to modify a string actually creates a new string."
   ]
  },
  {
   "cell_type": "markdown",
   "id": "c7c2873e-fc8d-4f89-9ffe-924367aee9a6",
   "metadata": {},
   "source": [
    "Ques11. What advantages do dictionaries offer over lists for certain tasks?"
   ]
  },
  {
   "cell_type": "markdown",
   "id": "e2c557bd-2a21-48a0-b12a-4c5e0fe61be0",
   "metadata": {},
   "source": [
    "Ans11. Dictionaries offer several advantages over lists for certain tasks: a. Fast lookup: Accessing values by key in a dictionary is much faster. b. Key-value structure: Dictionaries store data in a more meaningful way, using keys, which makes code more readable and organized. c. No need to remember index: With dictionaries, you don’t need to remember positions, you just use keys to access data."
   ]
  },
  {
   "cell_type": "markdown",
   "id": "d07bac3a-afa7-40fa-81a1-a122bf7d4127",
   "metadata": {},
   "source": [
    "Ques12. Describe a scenario where using a tuple would be preferable over a list."
   ]
  },
  {
   "cell_type": "markdown",
   "id": "cbd83053-8c66-4470-ad96-7edf868d1f1b",
   "metadata": {},
   "source": [
    "Ans12. tuple is preferable over a list when you want to store data that should not change. Ex: if you're storing the coordinates of a location like (latitude, longitude), a tuple is better because it protects the data from being modified accidentally."
   ]
  },
  {
   "cell_type": "markdown",
   "id": "077e73de-838f-4b4f-8c09-342a180ebea5",
   "metadata": {},
   "source": [
    "Ques13. How do sets handle duplicate values in Python?"
   ]
  },
  {
   "cell_type": "markdown",
   "id": "80699912-9d20-4907-888f-da16d71b2871",
   "metadata": {},
   "source": [
    "Ans13. In Python, sets automatically remove duplicate values. When you create a set, any repeated elements are stored only once."
   ]
  },
  {
   "cell_type": "markdown",
   "id": "ad94257f-2cac-4de0-b0e8-133873e042b0",
   "metadata": {},
   "source": [
    "Ques14. How does the “in” keyword work differently for lists and dictionaries?"
   ]
  },
  {
   "cell_type": "markdown",
   "id": "672a82f0-8a0a-4e52-86f2-4084c05ccfcc",
   "metadata": {},
   "source": [
    "Ans14. The in keyword is used to check for membership, but it behaves differently for lists and dictionaries in Python. In a list, in checks if a specific value exists within the list elements. However, in a dictionary, in checks only for the presence of a key, not the value."
   ]
  },
  {
   "cell_type": "markdown",
   "id": "fc15436d-fbe7-46d1-b966-747a7ec35d46",
   "metadata": {},
   "source": [
    "Ques15. Can you modify the elements of a tuple? Explain why or why not?"
   ]
  },
  {
   "cell_type": "markdown",
   "id": "1dfe1cb6-2142-4986-9b8c-2d337c77a9eb",
   "metadata": {},
   "source": [
    "Ans15. No, we cannot modify the elements of a tuple in Python. This is because tuples are immutable, meaning once they are created, their content cannot be changed."
   ]
  },
  {
   "cell_type": "markdown",
   "id": "54f998b5-8813-448f-9ecc-3c039cf6e5b7",
   "metadata": {},
   "source": [
    "Ques16. What is a nested dictionary, and give an example of its use case?"
   ]
  },
  {
   "cell_type": "markdown",
   "id": "b4488929-bf05-4a18-8f9f-c539b7f4caba",
   "metadata": {},
   "source": [
    "Ans16. A nested dictionary is a dictionary where the value associated with a key is another dictionary. This allows you to store hierarchical or complex data structures within a dictionary."
   ]
  },
  {
   "cell_type": "markdown",
   "id": "6a430035-4a67-48d5-ac83-f9c6a471794a",
   "metadata": {},
   "source": [
    "Use Case: A nested dictionary is useful when you need to represent complex data like a student record where each student has multiple attributes age, class, etc."
   ]
  },
  {
   "cell_type": "markdown",
   "id": "31e9a5c8-0eb7-4b2f-9a19-fd4589e215b9",
   "metadata": {},
   "source": [
    "Ques17. Describe the time complexity of accessing elements in a dictionary."
   ]
  },
  {
   "cell_type": "markdown",
   "id": "86a8e29d-7109-46e4-a3f2-62d02f5bde58",
   "metadata": {},
   "source": [
    "Ans17. In Python, accessing an element in a dictionary is very fast. it takes the same amount of time regardless of the size of the dictionary. This is because dictionaries use hashing to quickly find values based on their keys."
   ]
  },
  {
   "cell_type": "markdown",
   "id": "722dac45-4f20-4524-9863-47cbfd8e89b3",
   "metadata": {},
   "source": [
    "Ques18. In what situations are lists preferred over dictionaries?"
   ]
  },
  {
   "cell_type": "markdown",
   "id": "64e838fc-622c-49f8-b83f-3b3246384319",
   "metadata": {},
   "source": [
    "Ans18. Lists are preferred over dictionaries when the order of elements matters or when you need to access items by their position (index)."
   ]
  },
  {
   "cell_type": "markdown",
   "id": "6ae2f952-3889-4c87-bb18-f549334d276e",
   "metadata": {},
   "source": [
    "Ques19. Why are dictionaries considered unordered, and how does that affect data retrieval?"
   ]
  },
  {
   "cell_type": "markdown",
   "id": "7321c2ee-0db3-4a5f-9c67-467538062c83",
   "metadata": {},
   "source": [
    "Ans19. Dictionaries are considered unordered because the items are stored based on their hash values, not in the order they were added. However, this does not affect data retrieval. You can still quickly access values using their keys."
   ]
  },
  {
   "cell_type": "markdown",
   "id": "3a86c512-5b87-448d-888f-db074f808efc",
   "metadata": {},
   "source": [
    "Ques20. Explain the difference between a list and a dictionary in terms of data retrieval."
   ]
  },
  {
   "cell_type": "markdown",
   "id": "4e5d2ced-5696-408e-9e97-e0ab711f74c8",
   "metadata": {},
   "source": [
    "Ans20.The main difference between a list and a dictionary in terms of data retrieval lies in how data is accessed: a. List: Data is accessed using index positions (integers), so you retrieve an item by its index. The index defines the position of an element in the list. b. Dictionary: Data is accessed using keys, which can be any immutable type like strings or numbers. You retrieve values by referring to their associated key."
   ]
  },
  {
   "cell_type": "markdown",
   "id": "fb2d818a-6d04-40de-9cf4-0ab10b4681f2",
   "metadata": {},
   "source": [
    "Practical Based Question"
   ]
  },
  {
   "cell_type": "code",
   "execution_count": 193,
   "id": "b78d96f7-9f4c-4ab5-9459-d110c1cc5123",
   "metadata": {},
   "outputs": [
    {
     "name": "stdout",
     "output_type": "stream",
     "text": [
      "Vishal\n"
     ]
    }
   ],
   "source": [
    "# Q1. Write a code to create a string with your name and print it.\n",
    "\n",
    "str1 = \"Vishal\"\n",
    "print(str1)"
   ]
  },
  {
   "cell_type": "code",
   "execution_count": 195,
   "id": "77370f78-f2a7-43d2-b2f4-94bcb23f7a6b",
   "metadata": {},
   "outputs": [
    {
     "data": {
      "text/plain": [
       "13"
      ]
     },
     "execution_count": 195,
     "metadata": {},
     "output_type": "execute_result"
    }
   ],
   "source": [
    "# Q2.  Write a code to find the length of the string \"Hello World\".\n",
    "\n",
    "str2 = \"Hello Aayushi\"\n",
    "len(str2)"
   ]
  },
  {
   "cell_type": "code",
   "execution_count": 197,
   "id": "e8954562-dbfc-492b-b144-1c6dc1ba00ef",
   "metadata": {},
   "outputs": [
    {
     "data": {
      "text/plain": [
       "'Pyth'"
      ]
     },
     "execution_count": 197,
     "metadata": {},
     "output_type": "execute_result"
    }
   ],
   "source": [
    "# Q3. Write a code to slice the first 3 characters from the string \"Python Programming\".\n",
    "\n",
    "str3 = \"Python Programming\"\n",
    "str3[0:4]"
   ]
  },
  {
   "cell_type": "code",
   "execution_count": 199,
   "id": "f93d46bd-1781-4550-829a-1886486d3a0a",
   "metadata": {},
   "outputs": [
    {
     "data": {
      "text/plain": [
       "'HELLO'"
      ]
     },
     "execution_count": 199,
     "metadata": {},
     "output_type": "execute_result"
    }
   ],
   "source": [
    "# Q4. Write a code to convert the string \"hello\" to uppercase.\n",
    "\n",
    "str4 = \"hello\"\n",
    "str4.upper()"
   ]
  },
  {
   "cell_type": "code",
   "execution_count": 201,
   "id": "167821e6-575c-4839-9dbc-1480756d7752",
   "metadata": {},
   "outputs": [
    {
     "name": "stdout",
     "output_type": "stream",
     "text": [
      "I like Banana\n"
     ]
    }
   ],
   "source": [
    "# Q5. Write a code to replace the word \"apple\" with \"orange\" in the string \"I like apple\".\n",
    "\n",
    "str5 = \"I like Banana\"\n",
    "new_text = str5.replace(\"apple\", \"Mangoes\")\n",
    "print(new_text)"
   ]
  },
  {
   "cell_type": "code",
   "execution_count": 203,
   "id": "084d954a-b8e6-45db-9dd6-f1de4aaa6172",
   "metadata": {},
   "outputs": [
    {
     "name": "stdout",
     "output_type": "stream",
     "text": [
      "[1, 2, 3, 4, 5]\n"
     ]
    }
   ],
   "source": [
    "# Q6. Write a code to create a list with numbers 1 to 5 and print it. \n",
    "\n",
    "list1 = [1, 2, 3, 4, 5]\n",
    "print(list1)"
   ]
  },
  {
   "cell_type": "code",
   "execution_count": 205,
   "id": "2da1ffea-fced-49a4-8eb0-bab01f2e6d55",
   "metadata": {},
   "outputs": [
    {
     "name": "stdout",
     "output_type": "stream",
     "text": [
      "[1, 2, 3, 4, 10]\n"
     ]
    }
   ],
   "source": [
    "# Q7. Write a code to append the number 10 to the list [1, 2, 3, 4].\n",
    "\n",
    "list2 = [1, 2, 3, 4]\n",
    "list2.append(10)\n",
    "print(list2)"
   ]
  },
  {
   "cell_type": "code",
   "execution_count": 207,
   "id": "b87c1e47-56fd-460f-b3cd-21a9b3426921",
   "metadata": {},
   "outputs": [
    {
     "name": "stdout",
     "output_type": "stream",
     "text": [
      "[1, 2, 4, 5]\n"
     ]
    }
   ],
   "source": [
    "# Q8. Write a code to remove the number 3 from the list [1, 2, 3, 4, 5].\n",
    "\n",
    "list3 = [1, 2, 3, 4, 5]\n",
    "list3.remove(3)\n",
    "print(list3)"
   ]
  },
  {
   "cell_type": "code",
   "execution_count": 209,
   "id": "062e937e-0b01-471d-9c4c-034283f3b1ea",
   "metadata": {},
   "outputs": [
    {
     "data": {
      "text/plain": [
       "'b'"
      ]
     },
     "execution_count": 209,
     "metadata": {},
     "output_type": "execute_result"
    }
   ],
   "source": [
    "# Q9. Write a code to access the second element in the list ['a', 'b', 'c', 'd'].\n",
    "\n",
    "list4 = ['a', 'b', 'c', 'd']\n",
    "list4[1]"
   ]
  },
  {
   "cell_type": "code",
   "execution_count": 211,
   "id": "b7daaa9e-d0c6-4080-8069-44023d89e757",
   "metadata": {},
   "outputs": [
    {
     "data": {
      "text/plain": [
       "[50, 40, 30, 20, 10]"
      ]
     },
     "execution_count": 211,
     "metadata": {},
     "output_type": "execute_result"
    }
   ],
   "source": [
    "# Q10. Write a code to reverse the list [10, 20, 30, 40, 50].\n",
    "\n",
    "list5 = [10, 20, 30, 40, 50]\n",
    "list5[ : :-1]"
   ]
  },
  {
   "cell_type": "code",
   "execution_count": 213,
   "id": "9686478b-cbb9-46d6-b84e-9f52448e24e8",
   "metadata": {},
   "outputs": [
    {
     "name": "stdout",
     "output_type": "stream",
     "text": [
      "(100, 200, 300)\n"
     ]
    }
   ],
   "source": [
    "# Q11. Write a code to create a tuple with the elements 100, 200, 300 and print it.\n",
    "\n",
    "tup1 = (100, 200, 300)\n",
    "print(tup1)"
   ]
  },
  {
   "cell_type": "code",
   "execution_count": 215,
   "id": "782911ce-35d0-41bf-ac45-b7f3cf400915",
   "metadata": {},
   "outputs": [
    {
     "data": {
      "text/plain": [
       "'blue'"
      ]
     },
     "execution_count": 215,
     "metadata": {},
     "output_type": "execute_result"
    }
   ],
   "source": [
    "# Q12. Write a code to access the second-to-last element of the tuple ('red', 'green', 'blue', 'yellow').\n",
    "\n",
    "tup2 = ('red', 'green', 'blue', 'yellow')\n",
    "tup2[2]"
   ]
  },
  {
   "cell_type": "code",
   "execution_count": 217,
   "id": "8a7e1cdb-f6c2-4797-8eb1-011fe1c2ef06",
   "metadata": {},
   "outputs": [
    {
     "data": {
      "text/plain": [
       "5"
      ]
     },
     "execution_count": 217,
     "metadata": {},
     "output_type": "execute_result"
    }
   ],
   "source": [
    "# Q13. Write a code to find the minimum number in the tuple (10, 20, 5, 15).\n",
    "\n",
    "tup3 = (10, 20, 5, 15)\n",
    "min(tup3)"
   ]
  },
  {
   "cell_type": "code",
   "execution_count": 219,
   "id": "9a677a84-5652-42ce-8a91-7a0cbe8b1804",
   "metadata": {},
   "outputs": [
    {
     "data": {
      "text/plain": [
       "1"
      ]
     },
     "execution_count": 219,
     "metadata": {},
     "output_type": "execute_result"
    }
   ],
   "source": [
    "# Q14. Write a code to find the index of the element \"cat\" in the tuple ('dog', 'cat', 'rabbit').\n",
    "\n",
    "animals = ('dog', 'cat', 'rabbit')\n",
    "animals.index('cat')"
   ]
  },
  {
   "cell_type": "code",
   "execution_count": 221,
   "id": "b0d4ef4a-ff13-4d58-97de-2ce270c5b178",
   "metadata": {},
   "outputs": [
    {
     "data": {
      "text/plain": [
       "False"
      ]
     },
     "execution_count": 221,
     "metadata": {},
     "output_type": "execute_result"
    }
   ],
   "source": [
    "# Q15. Write a code to create a tuple containing three different fruits and check if \"kiwi\" is in it.\n",
    "\n",
    "fruits = ('apple', 'banana', 'mango')\n",
    "'kiwi' in fruits"
   ]
  },
  {
   "cell_type": "code",
   "execution_count": 223,
   "id": "55318b93-e41b-4319-974e-f28aa7ffd974",
   "metadata": {},
   "outputs": [
    {
     "name": "stdout",
     "output_type": "stream",
     "text": [
      "{'a', 'b', 'c'}\n"
     ]
    }
   ],
   "source": [
    "# Q16. Write a code to create a set with the elements 'a', 'b', 'c' and print it.\n",
    "\n",
    "set1 = {'a', 'b', 'c'}\n",
    "print(set1)"
   ]
  },
  {
   "cell_type": "code",
   "execution_count": 225,
   "id": "60ede523-d7d6-49d5-b6af-82a74ed81053",
   "metadata": {},
   "outputs": [
    {
     "name": "stdout",
     "output_type": "stream",
     "text": [
      "set()\n"
     ]
    }
   ],
   "source": [
    "# Q17. Write a code to clear all elements from the set {1, 2, 3, 4, 5}.\n",
    "\n",
    "set2 = {1, 2, 3, 4, 5}\n",
    "set2.clear()\n",
    "print(set2)"
   ]
  },
  {
   "cell_type": "code",
   "execution_count": 227,
   "id": "0fd69196-65a7-41e6-8257-2042416ecec8",
   "metadata": {},
   "outputs": [
    {
     "name": "stdout",
     "output_type": "stream",
     "text": [
      "{1, 2, 3}\n"
     ]
    }
   ],
   "source": [
    "# Q18. Write a code to remove the element 4 from the set {1, 2, 3, 4}.\n",
    "\n",
    "set3 = {1, 2, 3, 4}\n",
    "set3.remove(4)\n",
    "print(set3)"
   ]
  },
  {
   "cell_type": "code",
   "execution_count": 229,
   "id": "df6a9d99-f1f0-47b4-9506-53632e28b6df",
   "metadata": {},
   "outputs": [
    {
     "name": "stdout",
     "output_type": "stream",
     "text": [
      "{1, 2, 3, 4, 5}\n"
     ]
    }
   ],
   "source": [
    "# Q19.  Write a code to find the union of two sets {1, 2, 3} and {3, 4, 5}.\n",
    "\n",
    "set4 = {1, 2, 3}\n",
    "set5 = {3, 4, 5}\n",
    "union_set = set4 | set5\n",
    "print(union_set)"
   ]
  },
  {
   "cell_type": "code",
   "execution_count": 231,
   "id": "a00c4ebd-ad77-4b8b-b2da-5ccdc42675fb",
   "metadata": {},
   "outputs": [
    {
     "name": "stdout",
     "output_type": "stream",
     "text": [
      "{2, 3}\n"
     ]
    }
   ],
   "source": [
    "# Q20. Write a code to find the intersection of two sets {1, 2, 3} and {2, 3, 4}.\n",
    "\n",
    "set6 = {1, 2, 3}\n",
    "set7 = {2, 3, 4}\n",
    "intersection_set = set6 & set7\n",
    "print(intersection_set)"
   ]
  },
  {
   "cell_type": "code",
   "execution_count": 233,
   "id": "ac23b0c0-026e-4c10-8ca7-69e02e93be3d",
   "metadata": {},
   "outputs": [
    {
     "name": "stdout",
     "output_type": "stream",
     "text": [
      "{'name': 'vishal', 'age': 22, 'city': 'Shamli'}\n"
     ]
    }
   ],
   "source": [
    "# Q21. Write a code to create a dictionary with the keys \"name\", \"age\", and \"city\", and print it.\n",
    "\n",
    "dic1 = {\"name\": \"vishal\", \"age\": 22, \"city\": \"Shamli\"}\n",
    "print(dic1)"
   ]
  },
  {
   "cell_type": "code",
   "execution_count": 235,
   "id": "9a4818b0-b301-4cca-9a2d-36f339b1e6b9",
   "metadata": {},
   "outputs": [
    {
     "name": "stdout",
     "output_type": "stream",
     "text": [
      "{'name': 'John', 'age': 25, 'country': 'USA'}\n"
     ]
    }
   ],
   "source": [
    "# Q22.  Write a code to add a new key-value pair \"country\": \"USA\" to the dictionary {'name': 'John', 'age': 25}.\n",
    "\n",
    "dic2 = {'name': 'John', 'age': 25}\n",
    "dic2['country'] = 'USA'\n",
    "print(dic2)"
   ]
  },
  {
   "cell_type": "code",
   "execution_count": 237,
   "id": "9804d1d3-026d-49fb-8e2d-68b116341bcc",
   "metadata": {},
   "outputs": [
    {
     "data": {
      "text/plain": [
       "'Alice'"
      ]
     },
     "execution_count": 237,
     "metadata": {},
     "output_type": "execute_result"
    }
   ],
   "source": [
    "# Q23.  Write a code to access the value associated with the key \"name\" in the dictionary {'name': 'Alice', 'age': 30}.\n",
    "\n",
    "dic3 = {'name': 'Alice', 'age': 30}\n",
    "dic3['name']"
   ]
  },
  {
   "cell_type": "code",
   "execution_count": 239,
   "id": "5d09549f-c94c-4911-84cf-70c743667821",
   "metadata": {},
   "outputs": [
    {
     "name": "stdout",
     "output_type": "stream",
     "text": [
      "{'name': 'Bob', 'city': 'New York'}\n"
     ]
    }
   ],
   "source": [
    "# Q24. Write a code to remove the key \"age\" from the dictionary {'name': 'Bob', 'age': 22, 'city': 'New York'}.\n",
    "\n",
    "dic4 = {'name': 'Bob', 'age': 22, 'city': 'New York'}\n",
    "dic4.pop('age')\n",
    "print(dic4)"
   ]
  },
  {
   "cell_type": "code",
   "execution_count": 241,
   "id": "4f68383c-2366-4cef-8f3e-430fa184c4ab",
   "metadata": {},
   "outputs": [
    {
     "name": "stdout",
     "output_type": "stream",
     "text": [
      "True\n"
     ]
    }
   ],
   "source": [
    "# Q25. Write a code to check if the key \"city\" exists in the dictionary {'name': 'Alice', 'city': 'Paris'}.\n",
    "\n",
    "dic5 = {'name': 'Alice', 'city': 'Paris'}\n",
    "print('city' in dic5)"
   ]
  },
  {
   "cell_type": "code",
   "execution_count": 243,
   "id": "e09be7bf-c361-4ebd-97d2-f0dbea1cd42a",
   "metadata": {},
   "outputs": [
    {
     "name": "stdout",
     "output_type": "stream",
     "text": [
      "List: [1, 2, 3]\n",
      "Tuple: (4, 5, 6)\n",
      "Dictionary: {'name': 'vishal', 'age': 22}\n"
     ]
    }
   ],
   "source": [
    "# Q26. Write a code to create a list, a tuple, and a dictionary, and print them all.\n",
    "\n",
    "\n",
    "my_list = [1, 2, 3]\n",
    "my_tuple = (4, 5, 6)\n",
    "my_dict = {\"name\": \"vishal\", \"age\": 22}\n",
    "print(\"List:\", my_list)\n",
    "print(\"Tuple:\", my_tuple)\n",
    "print(\"Dictionary:\", my_dict)"
   ]
  },
  {
   "cell_type": "code",
   "execution_count": 245,
   "id": "633c8467-b439-4fbb-a10f-4ed8a10eaf9e",
   "metadata": {},
   "outputs": [
    {
     "name": "stdout",
     "output_type": "stream",
     "text": [
      "[12, 26, 48, 72, 92]\n"
     ]
    }
   ],
   "source": [
    "# Q27.  Write a code to create a list of 5 random numbers between 1 and 100, sort it in ascending order, and print the\n",
    "##       result.(replaced)\n",
    "\n",
    "numbers = [48, 12, 92, 26, 72]\n",
    "numbers.sort()\n",
    "print(numbers)"
   ]
  },
  {
   "cell_type": "code",
   "execution_count": 247,
   "id": "71a659a8-27ae-4736-8de4-571d553bb78f",
   "metadata": {},
   "outputs": [
    {
     "data": {
      "text/plain": [
       "'Lakshya'"
      ]
     },
     "execution_count": 247,
     "metadata": {},
     "output_type": "execute_result"
    }
   ],
   "source": [
    "# Q28. Write a code to create a list with strings and print the element at the third index.\n",
    "\n",
    "friends = [\"krishana Bedi\", \"Pranav\", \"vishal\", \"Lakshya\", \"shivansh\"]\n",
    "friends[3]"
   ]
  },
  {
   "cell_type": "code",
   "execution_count": 249,
   "id": "56a4bd33-ecc4-4bf6-80fe-106e0495a07f",
   "metadata": {},
   "outputs": [
    {
     "name": "stdout",
     "output_type": "stream",
     "text": [
      "{'name': 'vishal', 'age': 22, 'city': 'Delhi', 'country': 'India'}\n"
     ]
    }
   ],
   "source": [
    "# Q29. Write a code to combine two dictionaries into one and print the result.\n",
    "\n",
    "dict1 = {'name': 'vishal', 'age': 22}\n",
    "dict2 = {'city': 'Delhi', 'country': 'India'}\n",
    "dict1.update(dict2)\n",
    "print(dict1)"
   ]
  },
  {
   "cell_type": "code",
   "execution_count": 251,
   "id": "0a110eb0-4097-47e2-a3ae-a91435e42574",
   "metadata": {},
   "outputs": [
    {
     "name": "stdout",
     "output_type": "stream",
     "text": [
      "{'a', 'b', 'c'}\n"
     ]
    }
   ],
   "source": [
    "# Q30.  Write a code to convert a list of strings into a set.\n",
    "\n",
    "my_list = [\"a\", \"b\", \"c\", \"a\"]\n",
    "my_set = set(my_list)\n",
    "print(my_set)"
   ]
  },
  {
   "cell_type": "code",
   "execution_count": null,
   "id": "3e6ec210-12c8-416d-9aa4-ca8b55fa5e49",
   "metadata": {},
   "outputs": [],
   "source": []
  }
 ],
 "metadata": {
  "kernelspec": {
   "display_name": "Python [conda env:base] *",
   "language": "python",
   "name": "conda-base-py"
  },
  "language_info": {
   "codemirror_mode": {
    "name": "ipython",
    "version": 3
   },
   "file_extension": ".py",
   "mimetype": "text/x-python",
   "name": "python",
   "nbconvert_exporter": "python",
   "pygments_lexer": "ipython3",
   "version": "3.12.7"
  }
 },
 "nbformat": 4,
 "nbformat_minor": 5
}
